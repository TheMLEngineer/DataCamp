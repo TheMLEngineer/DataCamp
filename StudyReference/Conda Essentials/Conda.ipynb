{
 "cells": [
  {
   "cell_type": "code",
   "execution_count": 1,
   "metadata": {},
   "outputs": [
    {
     "name": "stdout",
     "output_type": "stream",
     "text": [
      "conda 4.7.10\n"
     ]
    }
   ],
   "source": [
    "! conda --version"
   ]
  },
  {
   "cell_type": "code",
   "execution_count": 2,
   "metadata": {},
   "outputs": [
    {
     "name": "stdout",
     "output_type": "stream",
     "text": [
      "usage: conda [-h] [-V] command ...\n",
      "\n",
      "conda is a tool for managing and deploying applications, environments and packages.\n",
      "\n",
      "Options:\n",
      "\n",
      "positional arguments:\n",
      "  command\n",
      "    clean        Remove unused packages and caches.\n",
      "    config       Modify configuration values in .condarc. This is modeled\n",
      "                 after the git config command. Writes to the user .condarc\n",
      "                 file (/home/karthikeyan/.condarc) by default.\n",
      "    create       Create a new conda environment from a list of specified\n",
      "                 packages.\n",
      "    help         Displays a list of available conda commands and their help\n",
      "                 strings.\n",
      "    info         Display information about current conda install.\n",
      "    init         Initialize conda for shell interaction. [Experimental]\n",
      "    install      Installs a list of packages into a specified conda\n",
      "                 environment.\n",
      "    list         List linked packages in a conda environment.\n",
      "    package      Low-level conda package utility. (EXPERIMENTAL)\n",
      "    remove       Remove a list of packages from a specified conda environment.\n",
      "    uninstall    Alias for conda remove.\n",
      "    run          Run an executable in a conda environment. [Experimental]\n",
      "    search       Search for packages and display associated information. The\n",
      "                 input is a MatchSpec, a query language for conda packages.\n",
      "                 See examples below.\n",
      "    update       Updates conda packages to the latest compatible version.\n",
      "    upgrade      Alias for conda update.\n",
      "\n",
      "optional arguments:\n",
      "  -h, --help     Show this help message and exit.\n",
      "  -V, --version  Show the conda version number and exit.\n",
      "\n",
      "conda commands available from other packages:\n",
      "  build\n",
      "  convert\n",
      "  debug\n",
      "  develop\n",
      "  env\n",
      "  index\n",
      "  inspect\n",
      "  metapackage\n",
      "  render\n",
      "  server\n",
      "  skeleton\n",
      "  verify\n"
     ]
    }
   ],
   "source": [
    "! conda --help"
   ]
  },
  {
   "cell_type": "code",
   "execution_count": 4,
   "metadata": {},
   "outputs": [
    {
     "name": "stdout",
     "output_type": "stream",
     "text": [
      "Collecting package metadata (repodata.json): done\n",
      "Solving environment: / ^C\n",
      "failed\n",
      "\n",
      "CondaError: KeyboardInterrupt\n",
      "\n"
     ]
    }
   ],
   "source": [
    "! conda install pandas"
   ]
  },
  {
   "cell_type": "code",
   "execution_count": 7,
   "metadata": {},
   "outputs": [],
   "source": [
    "! python -c 'import sys;sys.version'"
   ]
  },
  {
   "cell_type": "code",
   "execution_count": 8,
   "metadata": {},
   "outputs": [
    {
     "name": "stdout",
     "output_type": "stream",
     "text": [
      "# packages in environment at /home/karthikeyan/anaconda3:\n",
      "#\n",
      "# Name                    Version                   Build  Channel\n",
      "attrs                     19.1.0                   py37_1  \n"
     ]
    }
   ],
   "source": [
    "! conda list attrs"
   ]
  },
  {
   "cell_type": "code",
   "execution_count": 9,
   "metadata": {},
   "outputs": [
    {
     "name": "stdout",
     "output_type": "stream",
     "text": [
      "# packages in environment at /home/karthikeyan/anaconda3:\n",
      "#\n",
      "# Name                    Version                   Build  Channel\n",
      "pandas                    0.24.2           py37he6710b0_0  \n",
      "pandas-profiling          2.2.0                    pypi_0    pypi\n"
     ]
    }
   ],
   "source": [
    "! conda list pandas"
   ]
  },
  {
   "cell_type": "code",
   "execution_count": 12,
   "metadata": {},
   "outputs": [
    {
     "name": "stdout",
     "output_type": "stream",
     "text": [
      "Collecting package metadata (repodata.json): done\n",
      "Solving environment: / ^C\n",
      "failed\n",
      "\n",
      "CondaError: KeyboardInterrupt\n",
      "\n"
     ]
    }
   ],
   "source": [
    "! conda install pandas=0.23.0"
   ]
  },
  {
   "cell_type": "code",
   "execution_count": 13,
   "metadata": {},
   "outputs": [
    {
     "name": "stdout",
     "output_type": "stream",
     "text": [
      "Loading channels: done\n",
      "# Name                       Version           Build  Channel             \n",
      "attrs                         17.2.0  py27h25ce645_0  pkgs/main           \n",
      "attrs                         17.2.0  py35hde4ea97_0  pkgs/main           \n",
      "attrs                         17.2.0  py36h8d46266_0  pkgs/main           \n",
      "attrs                         17.3.0  py27hf19f258_0  pkgs/main           \n",
      "attrs                         17.3.0  py35h20e33bf_0  pkgs/main           \n",
      "attrs                         17.3.0  py36h5ab58ff_0  pkgs/main           \n",
      "attrs                         17.4.0          py27_0  pkgs/main           \n",
      "attrs                         17.4.0          py35_0  pkgs/main           \n",
      "attrs                         17.4.0          py36_0  pkgs/main           \n",
      "attrs                         18.1.0          py27_0  pkgs/main           \n",
      "attrs                         18.1.0          py35_0  pkgs/main           \n",
      "attrs                         18.1.0          py36_0  pkgs/main           \n",
      "attrs                         18.1.0          py37_0  pkgs/main           \n",
      "attrs                         18.2.0  py27h28b3542_0  pkgs/main           \n",
      "attrs                         18.2.0  py35h28b3542_0  pkgs/main           \n",
      "attrs                         18.2.0  py36h28b3542_0  pkgs/main           \n",
      "attrs                         18.2.0  py37h28b3542_0  pkgs/main           \n",
      "attrs                         19.1.0          py27_1  pkgs/main           \n",
      "attrs                         19.1.0          py36_1  pkgs/main           \n",
      "attrs                         19.1.0          py37_1  pkgs/main           \n",
      "attrs                         19.1.0            py_0  pkgs/main           \n"
     ]
    }
   ],
   "source": [
    "! conda search attrs"
   ]
  },
  {
   "cell_type": "code",
   "execution_count": 14,
   "metadata": {},
   "outputs": [
    {
     "name": "stdout",
     "output_type": "stream",
     "text": [
      "Loading channels: done\n",
      "# Name                       Version           Build  Channel             \n",
      "pandas                        0.20.3  py27h820b67f_2  pkgs/main           \n",
      "pandas                        0.20.3  py27hfd1eabf_2  pkgs/main           \n",
      "pandas                        0.20.3  py35h85c2c75_2  pkgs/main           \n",
      "pandas                        0.20.3  py35hd2a53da_2  pkgs/main           \n",
      "pandas                        0.20.3  py36h6022372_2  pkgs/main           \n",
      "pandas                        0.20.3  py36h842e28d_2  pkgs/main           \n",
      "pandas                        0.21.0  py27he307072_1  pkgs/main           \n",
      "pandas                        0.21.0  py35hee8c687_1  pkgs/main           \n",
      "pandas                        0.21.0  py36h78bd809_1  pkgs/main           \n",
      "pandas                        0.21.1  py27h38cdd7d_0  pkgs/main           \n",
      "pandas                        0.21.1  py35h20b78c2_0  pkgs/main           \n",
      "pandas                        0.21.1  py36h20b78c2_0  pkgs/main           \n",
      "pandas                        0.22.0  py27hf484d3e_0  pkgs/main           \n",
      "pandas                        0.22.0  py35hf484d3e_0  pkgs/main           \n",
      "pandas                        0.22.0  py36hf484d3e_0  pkgs/main           \n",
      "pandas                        0.23.0  py27h637b7d7_0  pkgs/main           \n",
      "pandas                        0.23.0  py35h637b7d7_0  pkgs/main           \n",
      "pandas                        0.23.0  py36h637b7d7_0  pkgs/main           \n",
      "pandas                        0.23.1  py27h637b7d7_0  pkgs/main           \n",
      "pandas                        0.23.1  py35h637b7d7_0  pkgs/main           \n",
      "pandas                        0.23.1  py36h637b7d7_0  pkgs/main           \n",
      "pandas                        0.23.2  py27h04863e7_0  pkgs/main           \n",
      "pandas                        0.23.2  py36h04863e7_0  pkgs/main           \n",
      "pandas                        0.23.2  py37h04863e7_0  pkgs/main           \n",
      "pandas                        0.23.3  py27h04863e7_0  pkgs/main           \n",
      "pandas                        0.23.3  py35h04863e7_0  pkgs/main           \n",
      "pandas                        0.23.3  py36h04863e7_0  pkgs/main           \n",
      "pandas                        0.23.3  py37h04863e7_0  pkgs/main           \n",
      "pandas                        0.23.4  py27h04863e7_0  pkgs/main           \n",
      "pandas                        0.23.4  py35h04863e7_0  pkgs/main           \n",
      "pandas                        0.23.4  py36h04863e7_0  pkgs/main           \n",
      "pandas                        0.23.4  py37h04863e7_0  pkgs/main           \n",
      "pandas                        0.24.0  py27he6710b0_0  pkgs/main           \n",
      "pandas                        0.24.0  py36he6710b0_0  pkgs/main           \n",
      "pandas                        0.24.0  py37he6710b0_0  pkgs/main           \n",
      "pandas                        0.24.1  py27he6710b0_0  pkgs/main           \n",
      "pandas                        0.24.1  py36he6710b0_0  pkgs/main           \n",
      "pandas                        0.24.1  py37he6710b0_0  pkgs/main           \n",
      "pandas                        0.24.2  py27he6710b0_0  pkgs/main           \n",
      "pandas                        0.24.2  py36he6710b0_0  pkgs/main           \n",
      "pandas                        0.24.2  py37he6710b0_0  pkgs/main           \n"
     ]
    }
   ],
   "source": [
    "! conda search pandas"
   ]
  },
  {
   "cell_type": "code",
   "execution_count": 15,
   "metadata": {},
   "outputs": [
    {
     "name": "stdout",
     "output_type": "stream",
     "text": [
      "\n",
      "numpy 1.13.1 py35h8926d81_2\n",
      "---------------------------\n",
      "file name   : numpy-1.13.1-py35h8926d81_2.tar.bz2\n",
      "name        : numpy\n",
      "version     : 1.13.1\n",
      "build string: py35h8926d81_2\n",
      "build number: 2\n",
      "channel     : https://repo.anaconda.com/pkgs/main/linux-64\n",
      "size        : 3.8 MB\n",
      "arch        : None\n",
      "constrains  : ()\n",
      "license     : BSD 3-Clause\n",
      "md5         : 689e6a314d3293b7fc59af2fe4670555\n",
      "platform    : None\n",
      "sha256      : f8e532becf3c54aa60e5cba130353bb48bda985da8fb478a23a538ec2968f2a2\n",
      "subdir      : linux-64\n",
      "timestamp   : 1506013892685\n",
      "url         : https://repo.anaconda.com/pkgs/main/linux-64/numpy-1.13.1-py35h8926d81_2.tar.bz2\n",
      "dependencies:\n",
      "    libgcc-ng >=7.2.0\n",
      "    libgfortran-ng >=7.2.0,<8.0a0\n",
      "    python >=3.5,<3.6.0a0\n",
      "    mkl >=2018.0.0,<2019.0a0\n",
      "    blas * mkl\n",
      "\n",
      "numpy 1.13.1 py36h5bc529a_2\n",
      "---------------------------\n",
      "file name   : numpy-1.13.1-py36h5bc529a_2.tar.bz2\n",
      "name        : numpy\n",
      "version     : 1.13.1\n",
      "build string: py36h5bc529a_2\n",
      "build number: 2\n",
      "channel     : https://repo.anaconda.com/pkgs/main/linux-64\n",
      "size        : 3.9 MB\n",
      "arch        : None\n",
      "constrains  : ()\n",
      "license     : BSD 3-Clause\n",
      "md5         : 6c82b410a46bd64f394e1a3eca1dfa84\n",
      "platform    : None\n",
      "sha256      : c19eab030d86ce72708075b9bbc935e5af3f93ee68955d8457cead769e9c4128\n",
      "subdir      : linux-64\n",
      "timestamp   : 1506013887446\n",
      "url         : https://repo.anaconda.com/pkgs/main/linux-64/numpy-1.13.1-py36h5bc529a_2.tar.bz2\n",
      "dependencies:\n",
      "    libgcc-ng >=7.2.0\n",
      "    libgfortran-ng >=7.2.0,<8.0a0\n",
      "    python >=3.6,<3.7.0a0\n",
      "    mkl >=2018.0.0,<2019.0a0\n",
      "    blas * mkl\n",
      "\n",
      "numpy 1.13.1 py27hd1b6e02_2\n",
      "---------------------------\n",
      "file name   : numpy-1.13.1-py27hd1b6e02_2.tar.bz2\n",
      "name        : numpy\n",
      "version     : 1.13.1\n",
      "build string: py27hd1b6e02_2\n",
      "build number: 2\n",
      "channel     : https://repo.anaconda.com/pkgs/main/linux-64\n",
      "size        : 3.8 MB\n",
      "arch        : None\n",
      "constrains  : ()\n",
      "license     : BSD 3-Clause\n",
      "md5         : 50e6867cce2c0697affc0fb32f15a1c5\n",
      "platform    : None\n",
      "sha256      : 681975acea61bcd489837424e4068eeed4b92a4002cc817f40368b604bd6ca27\n",
      "subdir      : linux-64\n",
      "timestamp   : 1506013346735\n",
      "url         : https://repo.anaconda.com/pkgs/main/linux-64/numpy-1.13.1-py27hd1b6e02_2.tar.bz2\n",
      "dependencies:\n",
      "    libgcc-ng >=7.2.0\n",
      "    libgfortran-ng >=7.2.0,<8.0a0\n",
      "    python >=2.7,<2.8.0a0\n",
      "    mkl >=2018.0.0,<2019.0a0\n",
      "    blas * mkl\n",
      "WARNING: 'conda info package_name' is deprecated.\n",
      "          Use 'conda search package_name --info'.\n"
     ]
    }
   ],
   "source": [
    "!conda info numpy=1.13.1"
   ]
  },
  {
   "cell_type": "code",
   "execution_count": 16,
   "metadata": {},
   "outputs": [
    {
     "name": "stdout",
     "output_type": "stream",
     "text": [
      "Loading channels: done\n",
      "# Name                       Version           Build  Channel             \n",
      "textadapter                    2.0.0          py27_0  conda-forge         \n",
      "textadapter                    2.0.0          py27_0  sseefeld            \n",
      "textadapter                    2.0.0 py27h0ff66c2_1000  conda-forge         \n",
      "textadapter                    2.0.0          py34_0  sseefeld            \n",
      "textadapter                    2.0.0          py35_0  conda-forge         \n",
      "textadapter                    2.0.0          py35_0  sseefeld            \n",
      "textadapter                    2.0.0          py36_0  sseefeld            \n"
     ]
    }
   ],
   "source": [
    "! conda search -c conda-forge -c sseefeld -c gbrener --platform win-64 textadapter"
   ]
  },
  {
   "cell_type": "code",
   "execution_count": 17,
   "metadata": {},
   "outputs": [
    {
     "name": "stdout",
     "output_type": "stream",
     "text": [
      "Using Anaconda API: https://api.anaconda.org\n",
      "Packages:\n",
      "     Name                      |  Version | Package Types   | Platforms       | Builds    \n",
      "     ------------------------- |   ------ | --------------- | --------------- | ----------\n",
      "     DavidMertz/textadapter    |    2.0.0 | conda           | linux-64, osx-64 | py36_0, py35_0, py27_0\n",
      "     conda-forge/textadapter   |    2.0.0 | conda           | linux-64, win-32, osx-64, win-64 | py27h355e19c_0, py27h0ff66c2_1000, py27h418f4c1_1000, py35_0, py27_0\n",
      "     gbrener/textadapter       |    2.0.0 | conda           | linux-64, osx-64 | py35_0, py27_0\n",
      "                                          : python interface Amazon S3, and large data files\n",
      "     sseefeld/textadapter      |    2.0.0 | conda           | win-64          | py36_0, py34_0, py35_0, py27_0\n",
      "                                          : python interface Amazon S3, and large data files\n",
      "     stuarteberg/textadapter   |    2.0.0 | conda           | osx-64          | py36_0    \n",
      "Found 5 packages\n",
      "\n",
      "Run 'anaconda show <USER/PACKAGE>' to get installation details\n"
     ]
    }
   ],
   "source": [
    "! anaconda search textadapter"
   ]
  },
  {
   "cell_type": "code",
   "execution_count": 18,
   "metadata": {},
   "outputs": [
    {
     "name": "stdout",
     "output_type": "stream",
     "text": [
      "Collecting package metadata (repodata.json): done\n",
      "Solving environment: \\ ^C\n",
      "failed\n",
      "\n",
      "CondaError: KeyboardInterrupt\n",
      "\n"
     ]
    }
   ],
   "source": [
    "! conda install -c conda-forge youtube-dl\n",
    "\n",
    "#Install from conda-forge"
   ]
  },
  {
   "cell_type": "code",
   "execution_count": 19,
   "metadata": {},
   "outputs": [
    {
     "name": "stdout",
     "output_type": "stream",
     "text": [
      "# packages in environment at /home/karthikeyan/anaconda3:\n",
      "#\n",
      "# Name                    Version                   Build  Channel\n",
      "_ipyw_jlab_nb_ext_conf    0.1.0                    py37_0  \n",
      "_libgcc_mutex             0.1                        main  \n",
      "alabaster                 0.7.12                   py37_0  \n",
      "anaconda                  2019.03                  py37_0  \n",
      "anaconda-client           1.7.2                    py37_0  \n",
      "anaconda-navigator        1.9.7                    py37_0  \n",
      "anaconda-project          0.8.2                    py37_0  \n",
      "asn1crypto                0.24.0                   py37_0  \n",
      "astroid                   2.2.5                    py37_0  \n",
      "astropy                   3.1.2            py37h7b6447c_0  \n",
      "atomicwrites              1.3.0                    py37_1  \n",
      "attrs                     19.1.0                   py37_1  \n",
      "babel                     2.6.0                    py37_0  \n",
      "backcall                  0.1.0                    py37_0  \n",
      "backports                 1.0                      py37_1  \n",
      "backports.os              0.1.1                    py37_0  \n",
      "backports.shutil_get_terminal_size 1.0.0                    py37_2  \n",
      "beautifulsoup4            4.7.1                    py37_1  \n",
      "bitarray                  0.8.3            py37h14c3975_0  \n",
      "bkcharts                  0.2                      py37_0  \n",
      "blas                      1.0                         mkl  \n",
      "bleach                    3.1.0                    py37_0  \n",
      "blosc                     1.15.0               hd408876_0  \n",
      "bokeh                     1.0.4                    py37_0  \n",
      "boto                      2.49.0                   py37_0  \n",
      "bottleneck                1.2.1            py37h035aef0_1  \n",
      "bzip2                     1.0.6                h14c3975_5  \n",
      "ca-certificates           2019.1.23                     0  \n",
      "cairo                     1.14.12              h8948797_3  \n",
      "certifi                   2019.3.9                 py37_0    conda-forge\n",
      "cffi                      1.12.2           py37h2e261b9_1  \n",
      "chardet                   3.0.4                    py37_1  \n",
      "click                     7.0                      py37_0  \n",
      "cloudpickle               0.8.0                    py37_0  \n",
      "clyent                    1.2.2                    py37_1  \n",
      "colorama                  0.4.1                    py37_0  \n",
      "conda                     4.7.10                   py37_0    conda-forge\n",
      "conda-build               3.17.8                   py37_0  \n",
      "conda-env                 2.6.0                         1  \n",
      "conda-package-handling    1.3.11                   py37_0    conda-forge\n",
      "conda-verify              3.1.1                    py37_0  \n",
      "confuse                   1.0.0                    pypi_0    pypi\n",
      "contextlib2               0.5.5                    py37_0  \n",
      "cryptography              2.6.1            py37h1ba5d50_0  \n",
      "curl                      7.64.0               hbc83047_2  \n",
      "cycler                    0.10.0                   py37_0  \n",
      "cython                    0.29.6           py37he6710b0_0  \n",
      "cytoolz                   0.9.0.1          py37h14c3975_1  \n",
      "dask                      1.1.4                    py37_1  \n",
      "dask-core                 1.1.4                    py37_1  \n",
      "dbus                      1.13.6               h746ee38_0  \n",
      "decorator                 4.4.0                    py37_1  \n",
      "defusedxml                0.5.0                    py37_1  \n",
      "distributed               1.26.0                   py37_1  \n",
      "docutils                  0.14                     py37_0  \n",
      "entrypoints               0.3                      py37_0  \n",
      "et_xmlfile                1.0.1                    py37_0  \n",
      "expat                     2.2.6                he6710b0_0  \n",
      "fastcache                 1.0.2            py37h14c3975_2  \n",
      "filelock                  3.0.10                   py37_0  \n",
      "flask                     1.0.2                    py37_1  \n",
      "fontconfig                2.13.0               h9420a91_0  \n",
      "freetype                  2.9.1                h8a8886c_1  \n",
      "fribidi                   1.0.5                h7b6447c_0  \n",
      "future                    0.17.1                   py37_0  \n",
      "get_terminal_size         1.0.0                haa9412d_0  \n",
      "gevent                    1.4.0            py37h7b6447c_0  \n",
      "glib                      2.56.2               hd408876_0  \n",
      "glob2                     0.6                      py37_1  \n",
      "gmp                       6.1.2                h6c8ec71_1  \n",
      "gmpy2                     2.0.8            py37h10f8cd9_2  \n",
      "graphite2                 1.3.13               h23475e2_0  \n",
      "greenlet                  0.4.15           py37h7b6447c_0  \n",
      "gst-plugins-base          1.14.0               hbbd80ab_1  \n",
      "gstreamer                 1.14.0               hb453b48_1  \n",
      "h5py                      2.9.0            py37h7918eee_0  \n",
      "harfbuzz                  1.8.8                hffaf4a1_0  \n",
      "hdf5                      1.10.4               hb1b8bf9_0  \n",
      "heapdict                  1.0.0                    py37_2  \n",
      "holoviews                 1.12.3                   pypi_0    pypi\n",
      "html5lib                  1.0.1                    py37_0  \n",
      "htmlmin                   0.1.12                   pypi_0    pypi\n",
      "icu                       58.2                 h9c2bf20_1  \n",
      "idna                      2.8                      py37_0  \n",
      "imageio                   2.5.0                    py37_0  \n",
      "imagesize                 1.1.0                    py37_0  \n",
      "importlib_metadata        0.8                      py37_0  \n",
      "intel-openmp              2019.3                      199  \n",
      "ipykernel                 5.1.0            py37h39e3cac_0  \n",
      "ipython                   7.4.0            py37h39e3cac_0  \n",
      "ipython-sql               0.3.9                    pypi_0    pypi\n",
      "ipython_genutils          0.2.0                    py37_0  \n",
      "ipywidgets                7.4.2                    py37_0  \n",
      "isort                     4.3.16                   py37_0  \n",
      "itsdangerous              1.1.0                    py37_0  \n",
      "jbig                      2.1                  hdba287a_0  \n",
      "jdcal                     1.4                      py37_0  \n",
      "jedi                      0.13.3                   py37_0  \n",
      "jeepney                   0.4                      py37_0  \n",
      "jinja2                    2.10                     py37_0  \n",
      "jpeg                      9b                   h024ee3a_2  \n",
      "jsonschema                3.0.1                    py37_0  \n",
      "jupyter                   1.0.0                    py37_7  \n",
      "jupyter_client            5.2.4                    py37_0  \n",
      "jupyter_console           6.0.0                    py37_0  \n",
      "jupyter_core              4.4.0                    py37_0  \n",
      "jupyterlab                0.35.4           py37hf63ae98_0  \n",
      "jupyterlab-github         1.0.0                    pypi_0    pypi\n",
      "jupyterlab_server         0.2.0                    py37_0  \n",
      "keyring                   18.0.0                   py37_0  \n",
      "kiwisolver                1.0.1            py37hf484d3e_0  \n",
      "krb5                      1.16.1               h173b8e3_7  \n",
      "lazy-object-proxy         1.3.1            py37h14c3975_2  \n",
      "libarchive                3.3.3                h5d8350f_5  \n",
      "libcurl                   7.64.0               h20c2e04_2  \n",
      "libedit                   3.1.20181209         hc058e9b_0  \n",
      "libffi                    3.2.1                hd88cf55_4  \n",
      "libgcc-ng                 8.2.0                hdf63c60_1  \n",
      "libgfortran-ng            7.3.0                hdf63c60_0  \n",
      "liblief                   0.9.0                h7725739_2  \n",
      "libpng                    1.6.36               hbc83047_0  \n",
      "libsodium                 1.0.16               h1bed415_0  \n",
      "libssh2                   1.8.0                h1ba5d50_4  \n",
      "libstdcxx-ng              8.2.0                hdf63c60_1  \n",
      "libtiff                   4.0.10               h2733197_2  \n",
      "libtool                   2.4.6                h7b6447c_5  \n",
      "libuuid                   1.0.3                h1bed415_2  \n",
      "libxcb                    1.13                 h1bed415_1  \n",
      "libxml2                   2.9.9                he19cac6_0  \n",
      "libxslt                   1.1.33               h7d1a2b0_0  \n",
      "llvmlite                  0.28.0           py37hd408876_0  \n",
      "locket                    0.2.0                    py37_1  \n",
      "lxml                      4.3.2            py37hefd8a0e_0  \n",
      "lz4-c                     1.8.1.2              h14c3975_0  \n",
      "lzo                       2.10                 h49e0be7_2  \n",
      "markupsafe                1.1.1            py37h7b6447c_0  \n",
      "matplotlib                3.0.3            py37h5429711_0  \n",
      "mccabe                    0.6.1                    py37_1  \n",
      "missingno                 0.4.2                    pypi_0    pypi\n",
      "mistune                   0.8.4            py37h7b6447c_0  \n",
      "mkl                       2019.3                      199  \n",
      "mkl-service               1.1.2            py37he904b0f_5  \n",
      "mkl_fft                   1.0.10           py37ha843d7b_0  \n",
      "mkl_random                1.0.2            py37hd81dba3_0  \n",
      "more-itertools            6.0.0                    py37_0  \n",
      "mpc                       1.1.0                h10f8cd9_1  \n",
      "mpfr                      4.0.1                hdf1c602_3  \n",
      "mpmath                    1.1.0                    py37_0  \n",
      "msgpack-python            0.6.1            py37hfd86e86_1  \n",
      "multipledispatch          0.6.0                    py37_0  \n",
      "navigator-updater         0.2.1                    py37_0  \n",
      "nbconvert                 5.4.1                    py37_3  \n",
      "nbformat                  4.4.0                    py37_0  \n",
      "ncurses                   6.1                  he6710b0_1  \n",
      "networkx                  2.2                      py37_1  \n",
      "nltk                      3.4                      py37_1  \n",
      "nodejs                    11.14.0              he1b5a44_1    conda-forge\n",
      "nose                      1.3.7                    py37_2  \n",
      "notebook                  5.7.8                    py37_0  \n",
      "numba                     0.43.1           py37h962f231_0  \n",
      "numexpr                   2.6.9            py37h9e4a6bb_0  \n",
      "numpy                     1.16.2           py37h7e9f1db_0  \n",
      "numpy-base                1.16.2           py37hde5b4d6_0  \n",
      "numpydoc                  0.8.0                    py37_0  \n",
      "oauthlib                  3.0.2                    pypi_0    pypi\n",
      "olefile                   0.46                     py37_0  \n",
      "openpyxl                  2.6.1                    py37_1  \n",
      "openssl                   1.1.1b               h7b6447c_1  \n",
      "packaging                 19.0                     py37_0  \n",
      "pandas                    0.24.2           py37he6710b0_0  \n",
      "pandas-profiling          2.2.0                    pypi_0    pypi\n",
      "pandoc                    2.2.3.2                       0  \n",
      "pandocfilters             1.4.2                    py37_1  \n",
      "pango                     1.42.4               h049681c_0  \n",
      "param                     1.9.1                    pypi_0    pypi\n",
      "parso                     0.3.4                    py37_0  \n",
      "partd                     0.3.10                   py37_1  \n",
      "patchelf                  0.9                  he6710b0_3  \n",
      "path.py                   11.5.0                   py37_0  \n",
      "pathlib2                  2.3.3                    py37_0  \n",
      "patsy                     0.5.1                    py37_0  \n",
      "pcre                      8.43                 he6710b0_0  \n",
      "pep8                      1.7.1                    py37_0  \n",
      "pexpect                   4.6.0                    py37_0  \n",
      "phik                      0.9.8                    pypi_0    pypi\n",
      "pickleshare               0.7.5                    py37_0  \n",
      "pillow                    5.4.1            py37h34e0f95_0  \n",
      "pip                       19.0.3                   py37_0  \n",
      "pixman                    0.38.0               h7b6447c_0  \n",
      "pkginfo                   1.5.0.1                  py37_0  \n",
      "pluggy                    0.9.0                    py37_0  \n",
      "ply                       3.11                     py37_0  \n",
      "prettytable               0.7.2                    pypi_0    pypi\n",
      "prometheus_client         0.6.0                    py37_0  \n",
      "prompt_toolkit            2.0.9                    py37_0  \n",
      "psutil                    5.6.1            py37h7b6447c_0  \n",
      "ptyprocess                0.6.0                    py37_0  \n",
      "py                        1.8.0                    py37_0  \n",
      "py-lief                   0.9.0            py37h7725739_2  \n",
      "pycodestyle               2.5.0                    py37_0  \n",
      "pycosat                   0.6.3            py37h14c3975_0  \n",
      "pycparser                 2.19                     py37_0  \n",
      "pycrypto                  2.6.1            py37h14c3975_9  \n",
      "pycurl                    7.43.0.2         py37h1ba5d50_0  \n",
      "pyflakes                  2.1.1                    py37_0  \n",
      "pygments                  2.3.1                    py37_0  \n",
      "pylint                    2.3.1                    py37_0  \n",
      "pyodbc                    4.0.26           py37he6710b0_0  \n",
      "pyopenssl                 19.0.0                   py37_0  \n",
      "pyparsing                 2.3.1                    py37_0  \n",
      "pyqt                      5.9.2            py37h05f1152_2  \n",
      "pyrsistent                0.14.11          py37h7b6447c_0  \n",
      "pysocks                   1.6.8                    py37_0  \n",
      "pytables                  3.5.1            py37h71ec239_0  \n",
      "pytest                    4.3.1                    py37_0  \n",
      "pytest-arraydiff          0.3              py37h39e3cac_0  \n",
      "pytest-astropy            0.5.0                    py37_0  \n",
      "pytest-doctestplus        0.3.0                    py37_0  \n",
      "pytest-openfiles          0.3.2                    py37_0  \n",
      "pytest-pylint             0.14.1                   pypi_0    pypi\n",
      "pytest-remotedata         0.3.1                    py37_0  \n",
      "python                    3.7.3                h0371630_0  \n",
      "python-dateutil           2.8.0                    py37_0  \n",
      "python-libarchive-c       2.8                      py37_6  \n",
      "pytz                      2018.9                   py37_0  \n",
      "pyviz-comms               0.7.2                    pypi_0    pypi\n",
      "pywavelets                1.0.2            py37hdd07704_0  \n",
      "pyyaml                    5.1              py37h7b6447c_0  \n",
      "pyzmq                     18.0.0           py37he6710b0_0  \n",
      "qt                        5.9.7                h5867ecd_1  \n",
      "qtawesome                 0.5.7                    py37_1  \n",
      "qtconsole                 4.4.3                    py37_0  \n",
      "qtpy                      1.7.0                    py37_1  \n",
      "readline                  7.0                  h7b6447c_5  \n",
      "requests                  2.21.0                   py37_0  \n",
      "requests-oauthlib         1.2.0                    pypi_0    pypi\n",
      "rope                      0.12.0                   py37_0  \n",
      "ruamel_yaml               0.15.46          py37h14c3975_0  \n",
      "scikit-image              0.14.2           py37he6710b0_0  \n",
      "scikit-learn              0.20.3           py37hd81dba3_0  \n",
      "scipy                     1.2.1            py37h7c811a0_0  \n",
      "seaborn                   0.9.0                    py37_0  \n",
      "secretstorage             3.1.1                    py37_0  \n",
      "send2trash                1.5.0                    py37_0  \n",
      "setuptools                40.8.0                   py37_0  \n",
      "simplegeneric             0.8.1                    py37_2  \n",
      "singledispatch            3.4.0.3                  py37_0  \n",
      "sip                       4.19.8           py37hf484d3e_0  \n",
      "six                       1.12.0                   py37_0  \n",
      "snappy                    1.1.7                hbae5bb6_3  \n",
      "snowballstemmer           1.2.1                    py37_0  \n",
      "sortedcollections         1.1.2                    py37_0  \n",
      "sortedcontainers          2.1.0                    py37_0  \n",
      "soupsieve                 1.8                      py37_0  \n",
      "sphinx                    1.8.5                    py37_0  \n",
      "sphinxcontrib             1.0                      py37_1  \n",
      "sphinxcontrib-websupport  1.1.0                    py37_1  \n",
      "spyder                    3.3.3                    py37_0  \n",
      "spyder-kernels            0.4.2                    py37_0  \n",
      "sqlalchemy                1.3.1            py37h7b6447c_0  \n",
      "sqlite                    3.27.2               h7b6447c_0  \n",
      "sqlparse                  0.3.0                    pypi_0    pypi\n",
      "statsmodels               0.9.0            py37h035aef0_0  \n",
      "streamz                   0.5.1                    pypi_0    pypi\n",
      "sympy                     1.3                      py37_0  \n",
      "tblib                     1.3.2                    py37_0  \n",
      "terminado                 0.8.1                    py37_1  \n",
      "testpath                  0.4.2                    py37_0  \n",
      "tk                        8.6.8                hbc83047_0  \n",
      "toolz                     0.9.0                    py37_0  \n",
      "tornado                   6.0.2            py37h7b6447c_0  \n",
      "tqdm                      4.31.1                   py37_1  \n",
      "traitlets                 4.3.2                    py37_0  \n",
      "tweepy                    3.8.0                    pypi_0    pypi\n",
      "typed-ast                 1.4.0                    pypi_0    pypi\n",
      "unicodecsv                0.14.1                   py37_0  \n",
      "unixodbc                  2.3.7                h14c3975_0  \n",
      "urllib3                   1.24.1                   py37_0  \n",
      "wcwidth                   0.1.7                    py37_0  \n",
      "webencodings              0.5.1                    py37_1  \n",
      "werkzeug                  0.14.1                   py37_0  \n",
      "wheel                     0.33.1                   py37_0  \n",
      "widgetsnbextension        3.4.2                    py37_0  \n",
      "wrapt                     1.11.1           py37h7b6447c_0  \n",
      "wurlitzer                 1.0.2                    py37_0  \n",
      "xlrd                      1.2.0                    py37_0  \n",
      "xlsxwriter                1.1.5                    py37_0  \n",
      "xlwt                      1.3.0                    py37_0  \n",
      "xz                        5.2.4                h14c3975_4  \n",
      "yaml                      0.1.7                had09818_2  \n",
      "zeromq                    4.3.1                he6710b0_3  \n",
      "zict                      0.1.4                    py37_0  \n",
      "zipp                      0.3.3                    py37_1  \n",
      "zlib                      1.2.11               h7b6447c_3  \n",
      "zstd                      1.3.7                h0b5b093_0  \n"
     ]
    }
   ],
   "source": [
    "!conda list"
   ]
  },
  {
   "cell_type": "code",
   "execution_count": 20,
   "metadata": {},
   "outputs": [
    {
     "name": "stdout",
     "output_type": "stream",
     "text": [
      "# conda environments:\n",
      "#\n",
      "base                  *  /home/karthikeyan/anaconda3\n",
      "PycharmProject1          /home/karthikeyan/anaconda3/envs/PycharmProject1\n",
      "\n"
     ]
    }
   ],
   "source": [
    "!conda env list"
   ]
  },
  {
   "cell_type": "code",
   "execution_count": 21,
   "metadata": {},
   "outputs": [
    {
     "name": "stdout",
     "output_type": "stream",
     "text": [
      "# packages in environment at /home/karthikeyan/anaconda3:\n",
      "#\n",
      "# Name                    Version                   Build  Channel\n",
      "numpy                     1.16.2           py37h7e9f1db_0  \n",
      "numpy-base                1.16.2           py37hde5b4d6_0  \n",
      "numpydoc                  0.8.0                    py37_0  \n",
      "pandas                    0.24.2           py37he6710b0_0  \n",
      "pandas-profiling          2.2.0                    pypi_0    pypi\n"
     ]
    }
   ],
   "source": [
    "!conda list 'numpy|pandas'"
   ]
  },
  {
   "cell_type": "code",
   "execution_count": 22,
   "metadata": {},
   "outputs": [
    {
     "name": "stdout",
     "output_type": "stream",
     "text": [
      "\n",
      "EnvironmentLocationNotFound: Not a conda environment: /home/karthikeyan/anaconda3/envs/test-env\n",
      "\n"
     ]
    }
   ],
   "source": [
    "!conda list --name test-env 'numpy|pandas'"
   ]
  },
  {
   "cell_type": "code",
   "execution_count": 24,
   "metadata": {},
   "outputs": [],
   "source": [
    "!conda env export -n base > base.yml"
   ]
  },
  {
   "cell_type": "code",
   "execution_count": null,
   "metadata": {},
   "outputs": [
    {
     "name": "stdout",
     "output_type": "stream",
     "text": [
      "Collecting package metadata (repodata.json): done\n",
      "Solving environment: done\n",
      "\n",
      "## Package Plan ##\n",
      "\n",
      "  environment location: /home/karthikeyan/anaconda3\n",
      "\n",
      "  added / updated specs:\n",
      "    - conda\n",
      "\n",
      "\n",
      "The following packages will be downloaded:\n",
      "\n",
      "    package                    |            build\n",
      "    ---------------------------|-----------------\n",
      "    certifi-2019.3.9           |           py37_0         155 KB\n",
      "    conda-4.7.10               |           py37_0         3.0 MB\n",
      "    conda-package-handling-1.3.11|           py37_0         260 KB\n",
      "    ------------------------------------------------------------\n",
      "                                           Total:         3.4 MB\n",
      "\n",
      "The following packages will be SUPERSEDED by a higher-priority channel:\n",
      "\n",
      "  certifi                                       conda-forge --> pkgs/main\n",
      "  conda                                         conda-forge --> pkgs/main\n",
      "  conda-package-han~                            conda-forge --> pkgs/main\n",
      "\n",
      "\n",
      "Proceed ([y]/n)? "
     ]
    }
   ],
   "source": [
    "!conda update -n base conda"
   ]
  }
 ],
 "metadata": {
  "kernelspec": {
   "display_name": "Python 3",
   "language": "python",
   "name": "python3"
  },
  "language_info": {
   "codemirror_mode": {
    "name": "ipython",
    "version": 3
   },
   "file_extension": ".py",
   "mimetype": "text/x-python",
   "name": "python",
   "nbconvert_exporter": "python",
   "pygments_lexer": "ipython3",
   "version": "3.7.3"
  }
 },
 "nbformat": 4,
 "nbformat_minor": 2
}
